{
 "cells": [
  {
   "cell_type": "code",
   "execution_count": 19,
   "id": "d703311e",
   "metadata": {},
   "outputs": [],
   "source": [
    "#Importing all the necessary Libraries\n",
    "\n",
    "import math\n",
    "import numpy as np\n",
    "import pandas as pd\n",
    "import pandas_datareader as pdd\n",
    "from sklearn.preprocessing import MinMaxScaler \n",
    "from keras.models import Sequential\n",
    "from keras.layers import Dense,LSTM\n",
    "import matplotlib.pyplot as plt"
   ]
  },
  {
   "cell_type": "code",
   "execution_count": 20,
   "id": "ffe15e71",
   "metadata": {},
   "outputs": [
    {
     "data": {
      "text/html": [
       "<div>\n",
       "<style scoped>\n",
       "    .dataframe tbody tr th:only-of-type {\n",
       "        vertical-align: middle;\n",
       "    }\n",
       "\n",
       "    .dataframe tbody tr th {\n",
       "        vertical-align: top;\n",
       "    }\n",
       "\n",
       "    .dataframe thead th {\n",
       "        text-align: right;\n",
       "    }\n",
       "</style>\n",
       "<table border=\"1\" class=\"dataframe\">\n",
       "  <thead>\n",
       "    <tr style=\"text-align: right;\">\n",
       "      <th></th>\n",
       "      <th>High</th>\n",
       "      <th>Low</th>\n",
       "      <th>Open</th>\n",
       "      <th>Close</th>\n",
       "      <th>Volume</th>\n",
       "      <th>Adj Close</th>\n",
       "    </tr>\n",
       "    <tr>\n",
       "      <th>Date</th>\n",
       "      <th></th>\n",
       "      <th></th>\n",
       "      <th></th>\n",
       "      <th></th>\n",
       "      <th></th>\n",
       "      <th></th>\n",
       "    </tr>\n",
       "  </thead>\n",
       "  <tbody>\n",
       "    <tr>\n",
       "      <th>1999-12-31</th>\n",
       "      <td>0.918527</td>\n",
       "      <td>0.888393</td>\n",
       "      <td>0.901228</td>\n",
       "      <td>0.917969</td>\n",
       "      <td>163811200.0</td>\n",
       "      <td>0.788183</td>\n",
       "    </tr>\n",
       "    <tr>\n",
       "      <th>2000-01-03</th>\n",
       "      <td>1.004464</td>\n",
       "      <td>0.907924</td>\n",
       "      <td>0.936384</td>\n",
       "      <td>0.999442</td>\n",
       "      <td>535796800.0</td>\n",
       "      <td>0.858137</td>\n",
       "    </tr>\n",
       "    <tr>\n",
       "      <th>2000-01-04</th>\n",
       "      <td>0.987723</td>\n",
       "      <td>0.903460</td>\n",
       "      <td>0.966518</td>\n",
       "      <td>0.915179</td>\n",
       "      <td>512377600.0</td>\n",
       "      <td>0.785788</td>\n",
       "    </tr>\n",
       "    <tr>\n",
       "      <th>2000-01-05</th>\n",
       "      <td>0.987165</td>\n",
       "      <td>0.919643</td>\n",
       "      <td>0.926339</td>\n",
       "      <td>0.928571</td>\n",
       "      <td>778321600.0</td>\n",
       "      <td>0.797286</td>\n",
       "    </tr>\n",
       "    <tr>\n",
       "      <th>2000-01-06</th>\n",
       "      <td>0.955357</td>\n",
       "      <td>0.848214</td>\n",
       "      <td>0.947545</td>\n",
       "      <td>0.848214</td>\n",
       "      <td>767972800.0</td>\n",
       "      <td>0.728290</td>\n",
       "    </tr>\n",
       "    <tr>\n",
       "      <th>...</th>\n",
       "      <td>...</td>\n",
       "      <td>...</td>\n",
       "      <td>...</td>\n",
       "      <td>...</td>\n",
       "      <td>...</td>\n",
       "      <td>...</td>\n",
       "    </tr>\n",
       "    <tr>\n",
       "      <th>2021-05-24</th>\n",
       "      <td>127.940002</td>\n",
       "      <td>125.940002</td>\n",
       "      <td>126.010002</td>\n",
       "      <td>127.099998</td>\n",
       "      <td>63092900.0</td>\n",
       "      <td>126.909851</td>\n",
       "    </tr>\n",
       "    <tr>\n",
       "      <th>2021-05-25</th>\n",
       "      <td>128.320007</td>\n",
       "      <td>126.320000</td>\n",
       "      <td>127.820000</td>\n",
       "      <td>126.900002</td>\n",
       "      <td>72009500.0</td>\n",
       "      <td>126.710159</td>\n",
       "    </tr>\n",
       "    <tr>\n",
       "      <th>2021-05-26</th>\n",
       "      <td>127.389999</td>\n",
       "      <td>126.419998</td>\n",
       "      <td>126.959999</td>\n",
       "      <td>126.849998</td>\n",
       "      <td>56575900.0</td>\n",
       "      <td>126.660225</td>\n",
       "    </tr>\n",
       "    <tr>\n",
       "      <th>2021-05-27</th>\n",
       "      <td>127.639999</td>\n",
       "      <td>125.080002</td>\n",
       "      <td>126.440002</td>\n",
       "      <td>125.279999</td>\n",
       "      <td>94625600.0</td>\n",
       "      <td>125.092575</td>\n",
       "    </tr>\n",
       "    <tr>\n",
       "      <th>2021-05-28</th>\n",
       "      <td>125.800003</td>\n",
       "      <td>124.550003</td>\n",
       "      <td>125.570000</td>\n",
       "      <td>124.610001</td>\n",
       "      <td>71311100.0</td>\n",
       "      <td>124.423584</td>\n",
       "    </tr>\n",
       "  </tbody>\n",
       "</table>\n",
       "<p>5387 rows × 6 columns</p>\n",
       "</div>"
      ],
      "text/plain": [
       "                  High         Low        Open       Close       Volume  \\\n",
       "Date                                                                      \n",
       "1999-12-31    0.918527    0.888393    0.901228    0.917969  163811200.0   \n",
       "2000-01-03    1.004464    0.907924    0.936384    0.999442  535796800.0   \n",
       "2000-01-04    0.987723    0.903460    0.966518    0.915179  512377600.0   \n",
       "2000-01-05    0.987165    0.919643    0.926339    0.928571  778321600.0   \n",
       "2000-01-06    0.955357    0.848214    0.947545    0.848214  767972800.0   \n",
       "...                ...         ...         ...         ...          ...   \n",
       "2021-05-24  127.940002  125.940002  126.010002  127.099998   63092900.0   \n",
       "2021-05-25  128.320007  126.320000  127.820000  126.900002   72009500.0   \n",
       "2021-05-26  127.389999  126.419998  126.959999  126.849998   56575900.0   \n",
       "2021-05-27  127.639999  125.080002  126.440002  125.279999   94625600.0   \n",
       "2021-05-28  125.800003  124.550003  125.570000  124.610001   71311100.0   \n",
       "\n",
       "             Adj Close  \n",
       "Date                    \n",
       "1999-12-31    0.788183  \n",
       "2000-01-03    0.858137  \n",
       "2000-01-04    0.785788  \n",
       "2000-01-05    0.797286  \n",
       "2000-01-06    0.728290  \n",
       "...                ...  \n",
       "2021-05-24  126.909851  \n",
       "2021-05-25  126.710159  \n",
       "2021-05-26  126.660225  \n",
       "2021-05-27  125.092575  \n",
       "2021-05-28  124.423584  \n",
       "\n",
       "[5387 rows x 6 columns]"
      ]
     },
     "execution_count": 20,
     "metadata": {},
     "output_type": "execute_result"
    }
   ],
   "source": [
    "# Creating a Datframe of dataset\n",
    "df = pdd.DataReader('AAPL', data_source='yahoo', start='2000-01-01', end='30-05-2021')\n",
    "df"
   ]
  },
  {
   "cell_type": "code",
   "execution_count": 21,
   "id": "271377b6",
   "metadata": {},
   "outputs": [
    {
     "data": {
      "image/png": "[encoded data removed]",
      "text/plain": [
       "<Figure size 1152x576 with 1 Axes>"
      ]
     },
     "metadata": {
      "needs_background": "light"
     },
     "output_type": "display_data"
    }
   ],
   "source": [
    "# PLotting the graph for the previous years' Stock\n",
    "plt.figure(figsize = (16,8))\n",
    "plt.title(\"Close Price Movement\")\n",
    "plt.plot(df['Close'],color=\"Green\")\n",
    "plt.xlabel('Data',fontsize = 18)\n",
    "plt.ylabel('Close Prics in $', fontsize=18)\n",
    "plt.show()"
   ]
  },
  {
   "cell_type": "code",
   "execution_count": 22,
   "id": "b728d824",
   "metadata": {},
   "outputs": [
    {
     "data": {
      "text/html": [
       "<div>\n",
       "<style scoped>\n",
       "    .dataframe tbody tr th:only-of-type {\n",
       "        vertical-align: middle;\n",
       "    }\n",
       "\n",
       "    .dataframe tbody tr th {\n",
       "        vertical-align: top;\n",
       "    }\n",
       "\n",
       "    .dataframe thead th {\n",
       "        text-align: right;\n",
       "    }\n",
       "</style>\n",
       "<table border=\"1\" class=\"dataframe\">\n",
       "  <thead>\n",
       "    <tr style=\"text-align: right;\">\n",
       "      <th></th>\n",
       "      <th>Close</th>\n",
       "    </tr>\n",
       "    <tr>\n",
       "      <th>Date</th>\n",
       "      <th></th>\n",
       "    </tr>\n",
       "  </thead>\n",
       "  <tbody>\n",
       "    <tr>\n",
       "      <th>1999-12-31</th>\n",
       "      <td>0.917969</td>\n",
       "    </tr>\n",
       "    <tr>\n",
       "      <th>2000-01-03</th>\n",
       "      <td>0.999442</td>\n",
       "    </tr>\n",
       "    <tr>\n",
       "      <th>2000-01-04</th>\n",
       "      <td>0.915179</td>\n",
       "    </tr>\n",
       "    <tr>\n",
       "      <th>2000-01-05</th>\n",
       "      <td>0.928571</td>\n",
       "    </tr>\n",
       "    <tr>\n",
       "      <th>2000-01-06</th>\n",
       "      <td>0.848214</td>\n",
       "    </tr>\n",
       "    <tr>\n",
       "      <th>...</th>\n",
       "      <td>...</td>\n",
       "    </tr>\n",
       "    <tr>\n",
       "      <th>2021-05-24</th>\n",
       "      <td>127.099998</td>\n",
       "    </tr>\n",
       "    <tr>\n",
       "      <th>2021-05-25</th>\n",
       "      <td>126.900002</td>\n",
       "    </tr>\n",
       "    <tr>\n",
       "      <th>2021-05-26</th>\n",
       "      <td>126.849998</td>\n",
       "    </tr>\n",
       "    <tr>\n",
       "      <th>2021-05-27</th>\n",
       "      <td>125.279999</td>\n",
       "    </tr>\n",
       "    <tr>\n",
       "      <th>2021-05-28</th>\n",
       "      <td>124.610001</td>\n",
       "    </tr>\n",
       "  </tbody>\n",
       "</table>\n",
       "<p>5387 rows × 1 columns</p>\n",
       "</div>"
      ],
      "text/plain": [
       "                 Close\n",
       "Date                  \n",
       "1999-12-31    0.917969\n",
       "2000-01-03    0.999442\n",
       "2000-01-04    0.915179\n",
       "2000-01-05    0.928571\n",
       "2000-01-06    0.848214\n",
       "...                ...\n",
       "2021-05-24  127.099998\n",
       "2021-05-25  126.900002\n",
       "2021-05-26  126.849998\n",
       "2021-05-27  125.279999\n",
       "2021-05-28  124.610001\n",
       "\n",
       "[5387 rows x 1 columns]"
      ]
     },
     "execution_count": 22,
     "metadata": {},
     "output_type": "execute_result"
    }
   ],
   "source": [
    "# Filtering the Dataset\n",
    "data=df.filter(['Close'])\n",
    "dataset=data.values\n",
    "len(dataset)\n",
    "data\n"
   ]
  },
  {
   "cell_type": "code",
   "execution_count": 23,
   "id": "884bdf97",
   "metadata": {},
   "outputs": [
    {
     "data": {
      "text/plain": [
       "3771"
      ]
     },
     "execution_count": 23,
     "metadata": {},
     "output_type": "execute_result"
    }
   ],
   "source": [
    "# Creating the data size of training\n",
    "training_data_size = math.ceil(len(dataset)*.7)\n",
    "training_data_size"
   ]
  },
  {
   "cell_type": "code",
   "execution_count": 24,
   "id": "7ab73f9b",
   "metadata": {},
   "outputs": [],
   "source": [
    "# Analyzing the dataset\n",
    "dataset = df.iloc[:1762, 1:2].values\n",
    "dataset = df.iloc[:, 1:2].values"
   ]
  },
  {
   "cell_type": "code",
   "execution_count": 25,
   "id": "acf9b9a8",
   "metadata": {
    "scrolled": true
   },
   "outputs": [
    {
     "data": {
      "text/plain": [
       "array([[0.00468497],\n",
       "       [0.00482335],\n",
       "       [0.00479172],\n",
       "       ...,\n",
       "       [0.89407897],\n",
       "       [0.88458506],\n",
       "       [0.88083001]])"
      ]
     },
     "execution_count": 25,
     "metadata": {},
     "output_type": "execute_result"
    }
   ],
   "source": [
    "# Optimization\n",
    "scaler = MinMaxScaler(feature_range=(0,1))\n",
    "scaled_data = scaler.fit_transform(dataset)\n",
    "scaled_data"
   ]
  },
  {
   "cell_type": "code",
   "execution_count": 26,
   "id": "25be856e",
   "metadata": {},
   "outputs": [
    {
     "name": "stdout",
     "output_type": "stream",
     "text": [
      "[array([0.00468497, 0.00482335, 0.00479172, 0.00490638, 0.0044003 ,\n",
      "       0.00443194, 0.00438449, 0.00411564, 0.0038626 , 0.00424216,\n",
      "       0.00467706, 0.00474427, 0.0049301 , 0.0055706 , 0.00536105,\n",
      "       0.0050408 , 0.00486684, 0.00533338, 0.00515941, 0.00475614,\n",
      "       0.00436867, 0.0047166 , 0.00452682, 0.00473241, 0.00494591,\n",
      "       0.0050922 , 0.00542827, 0.00550338, 0.00534919, 0.00523849,\n",
      "       0.00526221, 0.00567735, 0.00548361, 0.00554688, 0.00540454,\n",
      "       0.00513964, 0.00541245, 0.00545989, 0.0053571 , 0.00524639,\n",
      "       0.00551129, 0.00588689, 0.00602527, 0.00598178, 0.00629807,\n",
      "       0.00605295, 0.00589085, 0.00587108, 0.00604504, 0.00595015,\n",
      "       0.00560222, 0.00561013, 0.00563385, 0.00595806, 0.00613202,\n",
      "       0.00608458, 0.00671321, 0.00724696, 0.00696229, 0.00704928])]\n",
      "[0.007065089935215251]\n",
      "[array([0.00468497, 0.00482335, 0.00479172, 0.00490638, 0.0044003 ,\n",
      "       0.00443194, 0.00438449, 0.00411564, 0.0038626 , 0.00424216,\n",
      "       0.00467706, 0.00474427, 0.0049301 , 0.0055706 , 0.00536105,\n",
      "       0.0050408 , 0.00486684, 0.00533338, 0.00515941, 0.00475614,\n",
      "       0.00436867, 0.0047166 , 0.00452682, 0.00473241, 0.00494591,\n",
      "       0.0050922 , 0.00542827, 0.00550338, 0.00534919, 0.00523849,\n",
      "       0.00526221, 0.00567735, 0.00548361, 0.00554688, 0.00540454,\n",
      "       0.00513964, 0.00541245, 0.00545989, 0.0053571 , 0.00524639,\n",
      "       0.00551129, 0.00588689, 0.00602527, 0.00598178, 0.00629807,\n",
      "       0.00605295, 0.00589085, 0.00587108, 0.00604504, 0.00595015,\n",
      "       0.00560222, 0.00561013, 0.00563385, 0.00595806, 0.00613202,\n",
      "       0.00608458, 0.00671321, 0.00724696, 0.00696229, 0.00704928]), array([0.00482335, 0.00479172, 0.00490638, 0.0044003 , 0.00443194,\n",
      "       0.00438449, 0.00411564, 0.0038626 , 0.00424216, 0.00467706,\n",
      "       0.00474427, 0.0049301 , 0.0055706 , 0.00536105, 0.0050408 ,\n",
      "       0.00486684, 0.00533338, 0.00515941, 0.00475614, 0.00436867,\n",
      "       0.0047166 , 0.00452682, 0.00473241, 0.00494591, 0.0050922 ,\n",
      "       0.00542827, 0.00550338, 0.00534919, 0.00523849, 0.00526221,\n",
      "       0.00567735, 0.00548361, 0.00554688, 0.00540454, 0.00513964,\n",
      "       0.00541245, 0.00545989, 0.0053571 , 0.00524639, 0.00551129,\n",
      "       0.00588689, 0.00602527, 0.00598178, 0.00629807, 0.00605295,\n",
      "       0.00589085, 0.00587108, 0.00604504, 0.00595015, 0.00560222,\n",
      "       0.00561013, 0.00563385, 0.00595806, 0.00613202, 0.00608458,\n",
      "       0.00671321, 0.00724696, 0.00696229, 0.00704928, 0.00706509])]\n",
      "[0.007065089935215251, 0.0068565353268854445]\n"
     ]
    }
   ],
   "source": [
    "# Training\n",
    "train_data = scaled_data[0:training_data_size, :]\n",
    "x_train = []\n",
    "y_train = []\n",
    "for i in range(60, len(train_data)):\n",
    "    x_train.append(train_data[i-60:i,0])\n",
    "    y_train.append(train_data[i,0])\n",
    "    if i <= 61:\n",
    "        print(x_train)\n",
    "        print(y_train)"
   ]
  },
  {
   "cell_type": "code",
   "execution_count": 27,
   "id": "07231277",
   "metadata": {},
   "outputs": [
    {
     "data": {
      "text/plain": [
       "(3711, 60, 1)"
      ]
     },
     "execution_count": 27,
     "metadata": {},
     "output_type": "execute_result"
    }
   ],
   "source": [
    "x_train,y_train = np.array(x_train), np.array(y_train)\n",
    "x_train = np.reshape(x_train, (x_train.shape[0], x_train.shape[1],1))\n",
    "x_train.shape"
   ]
  },
  {
   "cell_type": "code",
   "execution_count": 28,
   "id": "3e39f679",
   "metadata": {},
   "outputs": [],
   "source": [
    "# Creation of Model\n",
    "model=Sequential()\n",
    "model.add(LSTM(50,return_sequences = True, input_shape = (x_train.shape[1],1)))\n",
    "model.add(LSTM(50,return_sequences = False))\n",
    "model.add(Dense(25))\n",
    "model.add(Dense(1))"
   ]
  },
  {
   "cell_type": "code",
   "execution_count": 29,
   "id": "4ea9c7ad",
   "metadata": {},
   "outputs": [],
   "source": [
    "# Compilation Of the Model\n",
    "model.compile(optimizer='adam', loss = 'mean_squared_error')"
   ]
  },
  {
   "cell_type": "code",
   "execution_count": 30,
   "id": "75db8732",
   "metadata": {},
   "outputs": [
    {
     "name": "stdout",
     "output_type": "stream",
     "text": [
      "Epoch 1/10\n",
      "743/743 [==============================] - 33s 44ms/step - loss: 4.3811e-05\n",
      "Epoch 2/10\n",
      "743/743 [==============================] - 35s 48ms/step - loss: 1.6476e-05\n",
      "Epoch 3/10\n",
      "743/743 [==============================] - 35s 47ms/step - loss: 1.5325e-05\n",
      "Epoch 4/10\n",
      "743/743 [==============================] - 36s 48ms/step - loss: 1.4014e-05\n",
      "Epoch 5/10\n",
      "743/743 [==============================] - 35s 48ms/step - loss: 1.0040e-05\n",
      "Epoch 6/10\n",
      "743/743 [==============================] - 39s 52ms/step - loss: 1.1715e-05\n",
      "Epoch 7/10\n",
      "743/743 [==============================] - 39s 53ms/step - loss: 6.5052e-06\n",
      "Epoch 8/10\n",
      "743/743 [==============================] - 37s 50ms/step - loss: 7.2004e-06\n",
      "Epoch 9/10\n",
      "743/743 [==============================] - 40s 54ms/step - loss: 6.0098e-06\n",
      "Epoch 10/10\n",
      "743/743 [==============================] - 40s 54ms/step - loss: 5.1758e-06\n"
     ]
    },
    {
     "data": {
      "text/plain": [
       "<tensorflow.python.keras.callbacks.History at 0x2a864cebb50>"
      ]
     },
     "execution_count": 30,
     "metadata": {},
     "output_type": "execute_result"
    }
   ],
   "source": [
    "# Fitting the Model\n",
    "model.fit(x_train, y_train, batch_size=5, epochs = 10 )"
   ]
  },
  {
   "cell_type": "code",
   "execution_count": 31,
   "id": "40f23ec3",
   "metadata": {},
   "outputs": [],
   "source": [
    "# Testing\n",
    "test_data= scaled_data[training_data_size - 60:, :]\n",
    "x_test = []\n",
    "y_test = dataset[training_data_size:, :]\n",
    "for i in range(60, len(test_data)):\n",
    "    x_test.append(test_data[i-60:i, 0])\n"
   ]
  },
  {
   "cell_type": "code",
   "execution_count": 32,
   "id": "9d9819f1",
   "metadata": {},
   "outputs": [],
   "source": [
    "x_test= np.array(x_test)"
   ]
  },
  {
   "cell_type": "code",
   "execution_count": 33,
   "id": "4c2a64f3",
   "metadata": {},
   "outputs": [],
   "source": [
    "x_test = np.reshape(x_test, (x_test.shape[0], x_test.shape[1],1))"
   ]
  },
  {
   "cell_type": "code",
   "execution_count": 34,
   "id": "3700170a",
   "metadata": {},
   "outputs": [],
   "source": [
    "predictions = model.predict(x_test)\n",
    "predictions = scaler.inverse_transform(predictions)"
   ]
  },
  {
   "cell_type": "code",
   "execution_count": 35,
   "id": "6f010a2a",
   "metadata": {},
   "outputs": [
    {
     "data": {
      "text/plain": [
       "1.0777353898133382"
      ]
     },
     "execution_count": 35,
     "metadata": {},
     "output_type": "execute_result"
    }
   ],
   "source": [
    "# Accuracy\n",
    "rmse = np.sqrt(np.mean(predictions - y_test)**2)\n",
    "rmse"
   ]
  },
  {
   "cell_type": "code",
   "execution_count": 36,
   "id": "d6efd248",
   "metadata": {},
   "outputs": [
    {
     "name": "stderr",
     "output_type": "stream",
     "text": [
      "<ipython-input-36-56e3402751ac>:4: SettingWithCopyWarning: \n",
      "A value is trying to be set on a copy of a slice from a DataFrame.\n",
      "Try using .loc[row_indexer,col_indexer] = value instead\n",
      "\n",
      "See the caveats in the documentation: https://pandas.pydata.org/pandas-docs/stable/user_guide/indexing.html#returning-a-view-versus-a-copy\n",
      "  valid['predictions']=predictions\n"
     ]
    },
    {
     "data": {
      "image/png": "[encoded data removed]",
      "text/plain": [
       "<Figure size 1152x576 with 1 Axes>"
      ]
     },
     "metadata": {
      "needs_background": "light"
     },
     "output_type": "display_data"
    }
   ],
   "source": [
    "# Plotting the Graph\n",
    "train=data[:training_data_size]\n",
    "valid=data[training_data_size:]\n",
    "valid['predictions']=predictions\n",
    "plt.figure(figsize=(16,8))\n",
    "plt.title(\"Model LM\")\n",
    "plt.xlabel('Date',fontsize=18)\n",
    "plt.ylabel('Close Price in $',fontsize=18)\n",
    "plt.plot(train['Close'])\n",
    "plt.plot(valid[['Close','predictions']])\n",
    "plt.legend(['Train','Val','predictions'],loc='lower right')\n",
    "plt.show()"
   ]
  },
  {
   "cell_type": "code",
   "execution_count": null,
   "id": "104fb6dc",
   "metadata": {},
   "outputs": [],
   "source": []
  }
 ],
 "metadata": {
  "kernelspec": {
   "display_name": "Python 3",
   "language": "python",
   "name": "python3"
  },
  "language_info": {
   "codemirror_mode": {
    "name": "ipython",
    "version": 3
   },
   "file_extension": ".py",
   "mimetype": "text/x-python",
   "name": "python",
   "nbconvert_exporter": "python",
   "pygments_lexer": "ipython3",
   "version": "3.8.10"
  }
 },
 "nbformat": 4,
 "nbformat_minor": 5
}
